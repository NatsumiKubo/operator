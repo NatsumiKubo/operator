{
 "cells": [
  {
   "cell_type": "code",
   "execution_count": 58,
   "metadata": {},
   "outputs": [],
   "source": [
    "import pandas as pd"
   ]
  },
  {
   "cell_type": "code",
   "execution_count": 59,
   "metadata": {},
   "outputs": [
    {
     "data": {
      "text/plain": [
       "OrderedDict([('1000',                     A環境 Unnamed: 1 Unnamed: 3 Unnamed: 5\n",
       "              0                   NaN        NaN        NaN        NaN\n",
       "              1                    日付        責任者          A          B\n",
       "              2   2019-10-12 00:00:00      東京　太郎       hoge      tokyo\n",
       "              3   2019-10-13 00:00:00      大阪　花子      東京　太郎      osaka\n",
       "              4   2019-10-14 00:00:00       jiro        bar     nagoya\n",
       "              5   2019-10-15 00:00:00     ichiro       hoge      tokyo\n",
       "              6   2019-10-16 00:00:00     hanako        foo      osaka\n",
       "              7   2019-10-17 00:00:00       taro        bar     nagoya\n",
       "              8   2019-10-18 00:00:00       jiro       hoge      tokyo\n",
       "              9   2019-10-19 00:00:00        NaN        NaN        NaN\n",
       "              10  2019-10-20 00:00:00        NaN        NaN        NaN\n",
       "              11  2019-10-21 00:00:00     hanako       hoge      tokyo\n",
       "              12  2019-10-22 00:00:00       taro        foo      osaka\n",
       "              13  2019-10-23 00:00:00       jiro        bar     nagoya\n",
       "              14  2019-10-24 00:00:00     ichiro       hoge      tokyo\n",
       "              15  2019-10-25 00:00:00     hanako        foo      osaka\n",
       "              16  2019-10-26 00:00:00        NaN        NaN        NaN\n",
       "              17  2019-10-27 00:00:00        NaN        NaN        NaN\n",
       "              18  2019-10-28 00:00:00     hanako        foo      osaka\n",
       "              19  2019-10-29 00:00:00       taro       hoge     nagoya\n",
       "              20  2019-10-30 00:00:00       jiro        foo      tokyo\n",
       "              21  2019-10-31 00:00:00     ichiro        bar      osaka),\n",
       "             ('1001',                     B環境 Unnamed: 1 Unnamed: 3 Unnamed: 5\n",
       "              0                   NaN        NaN        NaN        NaN\n",
       "              1                    日付        責任者          A          B\n",
       "              2   2019-10-12 00:00:00     hanako       hoge      tokyo\n",
       "              3   2019-10-13 00:00:00       taro        foo      osaka\n",
       "              4   2019-10-14 00:00:00       jiro        bar     nagoya\n",
       "              5   2019-10-15 00:00:00     ichiro       hoge      tokyo\n",
       "              6   2019-10-16 00:00:00     hanako        foo      osaka\n",
       "              7   2019-10-17 00:00:00       taro        bar     nagoya\n",
       "              8   2019-10-18 00:00:00       jiro       hoge      tokyo\n",
       "              9   2019-10-19 00:00:00        NaN        NaN        NaN\n",
       "              10  2019-10-20 00:00:00        NaN        NaN        NaN\n",
       "              11  2019-10-21 00:00:00     hanako       hoge      tokyo\n",
       "              12  2019-10-22 00:00:00       taro        foo      osaka\n",
       "              13  2019-10-23 00:00:00       jiro        bar     nagoya\n",
       "              14  2019-10-24 00:00:00     ichiro       hoge      tokyo\n",
       "              15  2019-10-25 00:00:00     hanako        foo      osaka\n",
       "              16  2019-10-26 00:00:00        NaN        NaN        NaN\n",
       "              17  2019-10-27 00:00:00        NaN        NaN        NaN\n",
       "              18  2019-10-28 00:00:00     hanako        foo      osaka\n",
       "              19  2019-10-29 00:00:00       taro       hoge     nagoya\n",
       "              20  2019-10-30 00:00:00       jiro        foo      tokyo\n",
       "              21  2019-10-31 00:00:00     ichiro        bar      osaka)])"
      ]
     },
     "execution_count": 59,
     "metadata": {},
     "output_type": "execute_result"
    }
   ],
   "source": [
    "dfs = pd.read_excel('operator.xlsx', sheet_name=None, usecols=[0, 1, 3, 5, 7], skipcols=[2, 4, 6])\n",
    "dfs"
   ]
  },
  {
   "cell_type": "code",
   "execution_count": 60,
   "metadata": {},
   "outputs": [],
   "source": [
    "to_rocketchat_user = {\n",
    "    '東京　太郎': 'tokyotaro',\n",
    "    '大阪　花子': 'osakahanako'\n",
    "}   "
   ]
  },
  {
   "cell_type": "code",
   "execution_count": 61,
   "metadata": {},
   "outputs": [],
   "source": [
    "json_dict = {}\n",
    "for _, value in dfs.items():\n",
    "    df = value\n",
    "\n",
    "    # テスト環境の取得\n",
    "    env_name = df.columns.values[0]\n",
    "    # 4行目以降のループ\n",
    "    for _, columns in df[2:].iterrows(): \n",
    "        # 日付をYYYY-MM-DD形式の文字列に変換\n",
    "        date = columns[0].strftime(\"%Y-%m-%d\")\n",
    "        \n",
    "        # 日付をキーに設定\n",
    "        if date not in json_dict:\n",
    "            json_dict[date] = {}\n",
    "        \n",
    "        # オペレータの名前をリスト化\n",
    "        operators = []\n",
    "        leader = None\n",
    "        for index, name in enumerate(columns[1:]):\n",
    "            # 空のセルは無視\n",
    "            if type(name) is not type(pd.NaT):\n",
    "                if index == 0:\n",
    "                    if  name in to_rocketchat_user:\n",
    "                        leader = name + '( @' + to_rocketchat_user[name] + ' )'\n",
    "                    else:\n",
    "                        leader = name\n",
    "                else:\n",
    "                    if  name in to_rocketchat_user:\n",
    "                        operators.append(name + '( @' + to_rocketchat_user[name] + ' )' )\n",
    "                    else:             \n",
    "                        operators.append(name)\n",
    "            \n",
    "        json_dict[date][env_name] = {\n",
    "            '責任者': leader,\n",
    "            'オペレーター':operators\n",
    "        }"
   ]
  },
  {
   "cell_type": "code",
   "execution_count": 62,
   "metadata": {},
   "outputs": [
    {
     "data": {
      "text/plain": [
       "{'2019-10-12': {'A環境': {'責任者': '東京\\u3000太郎( @tokyotaro )',\n",
       "   'オペレーター': ['hoge', 'tokyo']},\n",
       "  'B環境': {'責任者': 'hanako', 'オペレーター': ['hoge', 'tokyo']}},\n",
       " '2019-10-13': {'A環境': {'責任者': '大阪\\u3000花子( @osakahanako )',\n",
       "   'オペレーター': ['東京\\u3000太郎( @tokyotaro )', 'osaka']},\n",
       "  'B環境': {'責任者': 'taro', 'オペレーター': ['foo', 'osaka']}},\n",
       " '2019-10-14': {'A環境': {'責任者': 'jiro', 'オペレーター': ['bar', 'nagoya']},\n",
       "  'B環境': {'責任者': 'jiro', 'オペレーター': ['bar', 'nagoya']}},\n",
       " '2019-10-15': {'A環境': {'責任者': 'ichiro', 'オペレーター': ['hoge', 'tokyo']},\n",
       "  'B環境': {'責任者': 'ichiro', 'オペレーター': ['hoge', 'tokyo']}},\n",
       " '2019-10-16': {'A環境': {'責任者': 'hanako', 'オペレーター': ['foo', 'osaka']},\n",
       "  'B環境': {'責任者': 'hanako', 'オペレーター': ['foo', 'osaka']}},\n",
       " '2019-10-17': {'A環境': {'責任者': 'taro', 'オペレーター': ['bar', 'nagoya']},\n",
       "  'B環境': {'責任者': 'taro', 'オペレーター': ['bar', 'nagoya']}},\n",
       " '2019-10-18': {'A環境': {'責任者': 'jiro', 'オペレーター': ['hoge', 'tokyo']},\n",
       "  'B環境': {'責任者': 'jiro', 'オペレーター': ['hoge', 'tokyo']}},\n",
       " '2019-10-19': {'A環境': {'責任者': None, 'オペレーター': []},\n",
       "  'B環境': {'責任者': None, 'オペレーター': []}},\n",
       " '2019-10-20': {'A環境': {'責任者': None, 'オペレーター': []},\n",
       "  'B環境': {'責任者': None, 'オペレーター': []}},\n",
       " '2019-10-21': {'A環境': {'責任者': 'hanako', 'オペレーター': ['hoge', 'tokyo']},\n",
       "  'B環境': {'責任者': 'hanako', 'オペレーター': ['hoge', 'tokyo']}},\n",
       " '2019-10-22': {'A環境': {'責任者': 'taro', 'オペレーター': ['foo', 'osaka']},\n",
       "  'B環境': {'責任者': 'taro', 'オペレーター': ['foo', 'osaka']}},\n",
       " '2019-10-23': {'A環境': {'責任者': 'jiro', 'オペレーター': ['bar', 'nagoya']},\n",
       "  'B環境': {'責任者': 'jiro', 'オペレーター': ['bar', 'nagoya']}},\n",
       " '2019-10-24': {'A環境': {'責任者': 'ichiro', 'オペレーター': ['hoge', 'tokyo']},\n",
       "  'B環境': {'責任者': 'ichiro', 'オペレーター': ['hoge', 'tokyo']}},\n",
       " '2019-10-25': {'A環境': {'責任者': 'hanako', 'オペレーター': ['foo', 'osaka']},\n",
       "  'B環境': {'責任者': 'hanako', 'オペレーター': ['foo', 'osaka']}},\n",
       " '2019-10-26': {'A環境': {'責任者': None, 'オペレーター': []},\n",
       "  'B環境': {'責任者': None, 'オペレーター': []}},\n",
       " '2019-10-27': {'A環境': {'責任者': None, 'オペレーター': []},\n",
       "  'B環境': {'責任者': None, 'オペレーター': []}},\n",
       " '2019-10-28': {'A環境': {'責任者': 'hanako', 'オペレーター': ['foo', 'osaka']},\n",
       "  'B環境': {'責任者': 'hanako', 'オペレーター': ['foo', 'osaka']}},\n",
       " '2019-10-29': {'A環境': {'責任者': 'taro', 'オペレーター': ['hoge', 'nagoya']},\n",
       "  'B環境': {'責任者': 'taro', 'オペレーター': ['hoge', 'nagoya']}},\n",
       " '2019-10-30': {'A環境': {'責任者': 'jiro', 'オペレーター': ['foo', 'tokyo']},\n",
       "  'B環境': {'責任者': 'jiro', 'オペレーター': ['foo', 'tokyo']}},\n",
       " '2019-10-31': {'A環境': {'責任者': 'ichiro', 'オペレーター': ['bar', 'osaka']},\n",
       "  'B環境': {'責任者': 'ichiro', 'オペレーター': ['bar', 'osaka']}}}"
      ]
     },
     "execution_count": 62,
     "metadata": {},
     "output_type": "execute_result"
    }
   ],
   "source": [
    "json_dict"
   ]
  },
  {
   "cell_type": "code",
   "execution_count": 63,
   "metadata": {},
   "outputs": [],
   "source": [
    "import json\n",
    "with open('result.json', 'w') as outfile:\n",
    "    json.dump(json_dict, outfile, indent=2, ensure_ascii=False)"
   ]
  }
 ],
 "metadata": {
  "kernelspec": {
   "display_name": "Python 3",
   "language": "python",
   "name": "python3"
  },
  "language_info": {
   "codemirror_mode": {
    "name": "ipython",
    "version": 3
   },
   "file_extension": ".py",
   "mimetype": "text/x-python",
   "name": "python",
   "nbconvert_exporter": "python",
   "pygments_lexer": "ipython3",
   "version": "3.7.4"
  }
 },
 "nbformat": 4,
 "nbformat_minor": 2
}
